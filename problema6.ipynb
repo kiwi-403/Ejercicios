{
  "nbformat": 4,
  "nbformat_minor": 0,
  "metadata": {
    "colab": {
      "provenance": [],
      "authorship_tag": "ABX9TyNLA+dxZ8faQRKDMU4VU8kb",
      "include_colab_link": true
    },
    "kernelspec": {
      "name": "python3",
      "display_name": "Python 3"
    },
    "language_info": {
      "name": "python"
    }
  },
  "cells": [
    {
      "cell_type": "markdown",
      "metadata": {
        "id": "view-in-github",
        "colab_type": "text"
      },
      "source": [
        "<a href=\"https://colab.research.google.com/github/kiwi-403/Ejercicios/blob/main/problema6.ipynb\" target=\"_parent\"><img src=\"https://colab.research.google.com/assets/colab-badge.svg\" alt=\"Open In Colab\"/></a>"
      ]
    },
    {
      "cell_type": "code",
      "execution_count": 4,
      "metadata": {
        "colab": {
          "base_uri": "https://localhost:8080/"
        },
        "id": "WpRlTVedVfxb",
        "outputId": "fbd24253-f0d7-409e-b1b7-9f70cdebfbff"
      },
      "outputs": [
        {
          "output_type": "stream",
          "name": "stdout",
          "text": [
            "Ingrese un texto:Chofer\n",
            "refohC\n"
          ]
        }
      ],
      "source": [
        "def invertida(cadena):\n",
        "  invertir=\"\"\n",
        "  for letra in cadena:\n",
        "    invertir=letra+invertir\n",
        "  return invertir\n",
        "cadena=input(\"Ingrese un texto:\")\n",
        "print(invertida(cadena))"
      ]
    }
  ]
}