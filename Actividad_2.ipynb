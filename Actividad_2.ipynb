{
  "nbformat": 4,
  "nbformat_minor": 0,
  "metadata": {
    "colab": {
      "provenance": [],
      "authorship_tag": "ABX9TyMAk5HGeuu2USAqgJs6op75",
      "include_colab_link": true
    },
    "kernelspec": {
      "name": "python3",
      "display_name": "Python 3"
    },
    "language_info": {
      "name": "python"
    }
  },
  "cells": [
    {
      "cell_type": "markdown",
      "metadata": {
        "id": "view-in-github",
        "colab_type": "text"
      },
      "source": [
        "<a href=\"https://colab.research.google.com/github/kiwi-403/Ejercicios/blob/main/Actividad_2.ipynb\" target=\"_parent\"><img src=\"https://colab.research.google.com/assets/colab-badge.svg\" alt=\"Open In Colab\"/></a>"
      ]
    },
    {
      "cell_type": "code",
      "execution_count": 2,
      "metadata": {
        "colab": {
          "base_uri": "https://localhost:8080/"
        },
        "id": "bj-SOa8tmuyV",
        "outputId": "5668b00f-19ce-409a-c0a0-366744b3c3c6"
      },
      "outputs": [
        {
          "output_type": "stream",
          "name": "stdout",
          "text": [
            "Ingresa un numero del 1 al 20:12\n",
            "El facrotial de 12, es de 479001600\n"
          ]
        }
      ],
      "source": [
        "numero=int(input(\"Ingresa un numero del 1 al 20:\"))\n",
        "if numero<1 or numero>20:\n",
        "  print(\"El numero debe estar entre 1 y 20\")\n",
        "else:\n",
        "  contador=1\n",
        "  factorial=1\n",
        "while contador<=numero:\n",
        "  factorial *=contador\n",
        "  contador +=1\n",
        "print(f\"El facrotial de {numero}, es de {factorial}\")"
      ]
    }
  ]
}