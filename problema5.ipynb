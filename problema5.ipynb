{
  "nbformat": 4,
  "nbformat_minor": 0,
  "metadata": {
    "colab": {
      "provenance": [],
      "authorship_tag": "ABX9TyNwrv/W1I/ncvFS5oX3xe7X",
      "include_colab_link": true
    },
    "kernelspec": {
      "name": "python3",
      "display_name": "Python 3"
    },
    "language_info": {
      "name": "python"
    }
  },
  "cells": [
    {
      "cell_type": "markdown",
      "metadata": {
        "id": "view-in-github",
        "colab_type": "text"
      },
      "source": [
        "<a href=\"https://colab.research.google.com/github/kiwi-403/Ejercicios/blob/main/problema5.ipynb\" target=\"_parent\"><img src=\"https://colab.research.google.com/assets/colab-badge.svg\" alt=\"Open In Colab\"/></a>"
      ]
    },
    {
      "cell_type": "code",
      "execution_count": 20,
      "metadata": {
        "colab": {
          "base_uri": "https://localhost:8080/"
        },
        "id": "VKTJ4_kGQa2P",
        "outputId": "805ae330-adda-4186-9e04-6f13f9833aa3"
      },
      "outputs": [
        {
          "output_type": "stream",
          "name": "stdout",
          "text": [
            "90.0\n"
          ]
        }
      ],
      "source": [
        "def num_1(califi):\n",
        "  if len(califi)==0:\n",
        "    return 0\n",
        "\n",
        "  total=sum(califi)\n",
        "  promedio=total/len(califi)\n",
        "  return promedio\n",
        "\n",
        "califi=[80,90,100]\n",
        "promedio=num_1(califi)\n",
        "print(promedio)"
      ]
    }
  ]
}