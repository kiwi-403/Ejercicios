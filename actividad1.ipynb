{
  "nbformat": 4,
  "nbformat_minor": 0,
  "metadata": {
    "colab": {
      "provenance": [],
      "authorship_tag": "ABX9TyPY/4KeB+B9HGUj8lT4o/iY",
      "include_colab_link": true
    },
    "kernelspec": {
      "name": "python3",
      "display_name": "Python 3"
    },
    "language_info": {
      "name": "python"
    }
  },
  "cells": [
    {
      "cell_type": "markdown",
      "metadata": {
        "id": "view-in-github",
        "colab_type": "text"
      },
      "source": [
        "<a href=\"https://colab.research.google.com/github/kiwi-403/Ejercicios/blob/main/actividad1.ipynb\" target=\"_parent\"><img src=\"https://colab.research.google.com/assets/colab-badge.svg\" alt=\"Open In Colab\"/></a>"
      ]
    },
    {
      "cell_type": "code",
      "execution_count": 4,
      "metadata": {
        "colab": {
          "base_uri": "https://localhost:8080/"
        },
        "id": "gFxljch0j451",
        "outputId": "a52f95b2-e586-4261-950f-4e49187e8a0d"
      },
      "outputs": [
        {
          "output_type": "stream",
          "name": "stdout",
          "text": [
            "La suma de los numeros pares del 1 al 100 es:2550\n"
          ]
        }
      ],
      "source": [
        "suma=0\n",
        "for i in range(101,1):\n",
        "  if i%2==0:\n",
        "    suma+=i\n",
        "print(f\"La suma de los numeros pares del 1 al 100 es:{suma}\")"
      ]
    }
  ]
}